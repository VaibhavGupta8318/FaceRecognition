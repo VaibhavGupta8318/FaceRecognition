{
 "cells": [
  {
   "cell_type": "code",
   "execution_count": 6,
   "id": "81dba94e-d18d-4d69-bde0-36e130c589d5",
   "metadata": {},
   "outputs": [],
   "source": [
    "import cv2;"
   ]
  },
  {
   "cell_type": "code",
   "execution_count": 7,
   "id": "93a8a3aa-227d-4019-b704-f40728147f2c",
   "metadata": {
    "scrolled": true
   },
   "outputs": [
    {
     "ename": "NameError",
     "evalue": "name 'face_cap' is not defined",
     "output_type": "error",
     "traceback": [
      "\u001b[1;31m---------------------------------------------------------------------------\u001b[0m",
      "\u001b[1;31mNameError\u001b[0m                                 Traceback (most recent call last)",
      "Cell \u001b[1;32mIn[7], line 6\u001b[0m\n\u001b[0;32m      4\u001b[0m ret,video_data \u001b[38;5;241m=\u001b[39m video_cap\u001b[38;5;241m.\u001b[39mread()\n\u001b[0;32m      5\u001b[0m col \u001b[38;5;241m=\u001b[39m cv2\u001b[38;5;241m.\u001b[39mcvtColor(video_data,cv2\u001b[38;5;241m.\u001b[39mCOLOR_BGR2GRAY)\n\u001b[1;32m----> 6\u001b[0m faces \u001b[38;5;241m=\u001b[39m \u001b[43mface_cap\u001b[49m\u001b[38;5;241m.\u001b[39mdetectMultiScale(\n\u001b[0;32m      7\u001b[0m     col,\n\u001b[0;32m      8\u001b[0m     scaleFactor \u001b[38;5;241m=\u001b[39m \u001b[38;5;241m1.1\u001b[39m,\n\u001b[0;32m      9\u001b[0m minNeighbors \u001b[38;5;241m=\u001b[39m\u001b[38;5;241m5\u001b[39m,\n\u001b[0;32m     10\u001b[0m     minSize\u001b[38;5;241m=\u001b[39m(\u001b[38;5;241m30\u001b[39m,\u001b[38;5;241m30\u001b[39m),\n\u001b[0;32m     11\u001b[0m     flags \u001b[38;5;241m=\u001b[39m cv2\u001b[38;5;241m.\u001b[39mCASCADE_SCALE_IMAGE\n\u001b[0;32m     12\u001b[0m )\n\u001b[0;32m     13\u001b[0m \u001b[38;5;28;01mfor\u001b[39;00m(x,y,w,h)\u001b[38;5;129;01min\u001b[39;00m faces:\n\u001b[0;32m     14\u001b[0m     cv2\u001b[38;5;241m.\u001b[39mrectangle(video_data(x,y),(x\u001b[38;5;241m+\u001b[39mw,y\u001b[38;5;241m+\u001b[39mh),(\u001b[38;5;241m0\u001b[39m,\u001b[38;5;241m255\u001b[39m,\u001b[38;5;241m0\u001b[39m),\u001b[38;5;241m2\u001b[39m)\n",
      "\u001b[1;31mNameError\u001b[0m: name 'face_cap' is not defined"
     ]
    }
   ],
   "source": [
    "fac_cap = cv2.CascadeClassifier(\"C:/Users/HP/AppData/Local/Programs/Python/Python312/Lib/site-packages/cv2/data/haarcascade_frontalface_default\")\n",
    "video_cap= cv2.VideoCapture(0);\n",
    "while True:\n",
    "    ret,video_data = video_cap.read()\n",
    "    col = cv2.cvtColor(video_data,cv2.COLOR_BGR2GRAY)\n",
    "    faces = face_cap.detectMultiScale(\n",
    "        col,\n",
    "        scaleFactor = 1.1,\n",
    "    minNeighbors =5,\n",
    "        minSize=(30,30),\n",
    "        flags = cv2.CASCADE_SCALE_IMAGE\n",
    "    )\n",
    "    for(x,y,w,h)in faces:\n",
    "        cv2.rectangle(video_data(x,y),(x+w,y+h),(0,255,0),2)\n",
    "    cv2.imshow(\"Video_live\",video_data);\n",
    "    if cv2.waitKey(10)==ord(\"a\"):\n",
    "       break\n",
    "\n",
    "video_cap.release();"
   ]
  },
  {
   "cell_type": "code",
   "execution_count": null,
   "id": "74c4ad28-3a0c-49ac-90c1-bccb6278984c",
   "metadata": {},
   "outputs": [],
   "source": []
  },
  {
   "cell_type": "code",
   "execution_count": null,
   "id": "2b3ad4e9-82fb-479a-bca3-e296728e3fed",
   "metadata": {},
   "outputs": [],
   "source": []
  }
 ],
 "metadata": {
  "kernelspec": {
   "display_name": "Python 3 (ipykernel)",
   "language": "python",
   "name": "python3"
  },
  "language_info": {
   "codemirror_mode": {
    "name": "ipython",
    "version": 3
   },
   "file_extension": ".py",
   "mimetype": "text/x-python",
   "name": "python",
   "nbconvert_exporter": "python",
   "pygments_lexer": "ipython3",
   "version": "3.12.0"
  }
 },
 "nbformat": 4,
 "nbformat_minor": 5
}
